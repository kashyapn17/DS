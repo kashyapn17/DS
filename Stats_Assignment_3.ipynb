{
 "cells": [
  {
   "cell_type": "markdown",
   "metadata": {},
   "source": [
    "Problem Statement 1:\n",
    "    \n",
    "Blood glucose levels for obese patients have a mean of 100 with a standard deviation of 15. A researcher thinks that a diet high in raw cornstarch will have a positive effect on\n",
    "blood glucose levels. A sample of 36 patients who have tried the raw cornstarch diet\n",
    "have a mean glucose level of 108. Test the hypothesis that the raw cornstarch had an\n",
    "effect or not."
   ]
  },
  {
   "cell_type": "markdown",
   "metadata": {},
   "source": [
    "H0 : mean = 100\n",
    "\n",
    "H1 : mean > 100\n",
    "\n",
    "population mean = 100\n",
    "\n",
    "population SD = 15\n",
    "\n",
    "n = 36\n",
    "\n",
    "sample mean = 108\n",
    "\n",
    "Z(test) = ((Sample mean - population mean) / (population SD/sqrt(n))) = 3.2\n",
    "\n",
    "Let alpha = 0.05\n",
    "\n",
    "Z(critical) = 1.64 (since it is right tailed test)\n",
    "\n",
    "Since Z(test) > Z(critical) it falls into the critical region, hence null hypothesis is rejected.\n",
    "\n",
    "Hence cornstarch has an effect\n",
    "\n",
    "-------------------------------------"
   ]
  },
  {
   "cell_type": "markdown",
   "metadata": {},
   "source": [
    "Problem Statement 2:\n",
    "    \n",
    "In one state, 52% of the voters are Republicans, and 48% are Democrats. In a second\n",
    "state, 47% of the voters are Republicans, and 53% are Democrats. Suppose a simple\n",
    "random sample of 100 voters are surveyed from each state.\n",
    "What is the probability that the survey will show a greater percentage of Republican\n",
    "voters in the second state than in the first state?"
   ]
  },
  {
   "cell_type": "markdown",
   "metadata": {},
   "source": [
    "P1 = 0.52\n",
    "\n",
    "P2 = 0.47\n",
    "\n",
    "p1 = 0.48\n",
    "\n",
    "p2 = 0.53\n",
    "\n",
    "n1 = 100\n",
    "\n",
    "n2 = 100\n",
    "\n",
    "n1P1 = 100*0.52 = 52\n",
    "\n",
    "n1p1 = 100*0.48 = 48\n",
    "\n",
    "n2P2 = 100*0.47 = 47\n",
    "\n",
    "n2p2 = 100*0.53 = 53\n",
    "\n",
    "Sample size is large enough\n",
    "\n",
    "P1 - P2 = 0.05\n",
    "\n",
    "SD = 0.0706\n",
    "\n",
    "Z = -0.7082\n",
    "\n",
    "we find that the probability of a z-score being -0.7082 or less is 0.24.\n",
    "\n",
    "Therefore, the probability that the survey will show a greater percentage of \n",
    "\n",
    "Republican voters in the second state than in the first state is 0.24.\n",
    "\n",
    "--------------------------------\n"
   ]
  },
  {
   "cell_type": "markdown",
   "metadata": {},
   "source": [
    "Problem Statement 3:\n",
    "    \n",
    "You take the SAT and score 1100. The mean score for the SAT is 1026 and the standard\n",
    "deviation is 209. How well did you score on the test compared to the average test taker?"
   ]
  },
  {
   "cell_type": "code",
   "execution_count": 5,
   "metadata": {},
   "outputs": [
    {
     "name": "stdout",
     "output_type": "stream",
     "text": [
      "0.354\n"
     ]
    }
   ],
   "source": [
    "z = ((1100 - 1026) / 209)\n",
    "print(round(z,3))"
   ]
  },
  {
   "cell_type": "markdown",
   "metadata": {},
   "source": [
    "Z = 0.354, meaning I am 0.354 Standard deviation above the mean.\n",
    "\n",
    "I am at 63.68th  percentile, which is fairly good."
   ]
  },
  {
   "cell_type": "code",
   "execution_count": null,
   "metadata": {},
   "outputs": [],
   "source": []
  }
 ],
 "metadata": {
  "kernelspec": {
   "display_name": "Python 3",
   "language": "python",
   "name": "python3"
  },
  "language_info": {
   "codemirror_mode": {
    "name": "ipython",
    "version": 3
   },
   "file_extension": ".py",
   "mimetype": "text/x-python",
   "name": "python",
   "nbconvert_exporter": "python",
   "pygments_lexer": "ipython3",
   "version": "3.7.0"
  }
 },
 "nbformat": 4,
 "nbformat_minor": 2
}
