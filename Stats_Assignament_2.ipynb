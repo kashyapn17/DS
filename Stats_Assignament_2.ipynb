{
 "cells": [
  {
   "cell_type": "markdown",
   "metadata": {},
   "source": [
    "Problem Statement 1:\n",
    "    \n",
    "In each of the following situations, state whether it is a correctly stated hypothesis\n",
    "testing problem and why?\n",
    "\n",
    "1. H0: μ = 25, H1: μ ≠ 25\n",
    "        \n",
    "2. H0: σ > 10, H1: σ = 10\n",
    "        \n",
    "3. H0: x = 50, H1: x ≠ 50\n",
    "        \n",
    "4. H0: p = 0.1, H1: p = 0.5\n",
    "        \n",
    "5. H0: s = 30, H1: s > 30"
   ]
  },
  {
   "cell_type": "markdown",
   "metadata": {},
   "source": [
    "1. Yes. H0-Null hypothesis claims that population mean = 25 and it initially claims it to be true.\n",
    "H1-Alternate Hypothesis begs to differ and says that the population mean can be either greater or lesser than 25"
   ]
  },
  {
   "cell_type": "markdown",
   "metadata": {},
   "source": [
    "2. No. Null hypothesis is always equality claim. H0 can be >= when H1 is <, or\n",
    "H0 can be <= when H1 is >."
   ]
  },
  {
   "cell_type": "markdown",
   "metadata": {},
   "source": [
    "3. No. Hypothesis are statements on population and not on sample data."
   ]
  },
  {
   "cell_type": "markdown",
   "metadata": {},
   "source": [
    "4. No. Both values are different."
   ]
  },
  {
   "cell_type": "markdown",
   "metadata": {},
   "source": [
    "5. No. Hypothesis are made on population and not on sample data.\n",
    "\n",
    "---------------------------"
   ]
  },
  {
   "cell_type": "markdown",
   "metadata": {},
   "source": [
    "Problem Statement 2:\n",
    "    \n",
    "The college bookstore tells prospective students that the average cost of its\n",
    "textbooks is Rs. 52 with a standard deviation of Rs. 4.50. A group of smart statistics\n",
    "students thinks that the average cost is higher. To test the bookstore’s claim against\n",
    "their alternative, the students will select a random sample of size 100. Assume that\n",
    "the mean from their random sample is Rs. 52.80. Perform a hypothesis test at the\n",
    "5% level of significance and state your decision."
   ]
  },
  {
   "cell_type": "markdown",
   "metadata": {},
   "source": [
    "H0 = mean <= 52\n",
    "\n",
    "H1 = mean > 52\n",
    "\n",
    "SD = 4.50\n",
    "\n",
    "n = 100\n",
    "\n",
    "x = 52.80\n",
    "\n",
    "alpha = 0.05\n",
    "\n",
    "Z(test) = (52.80 - 52)/(4.50/sqrt(100)) = 1.77\n",
    "\n",
    "Z(critical) = 1.64 for alpha=0.05 (right tailed test)\n",
    " \n",
    "Hence since Z(test)>Z(critical), the null hypothesis is rejected as Z(test) falls into critical \n",
    "\n",
    "region.\n",
    "\n",
    "The average cost of textbooks is higher than what is claimed by the bookstore.\n",
    "\n",
    "---------------------------------"
   ]
  },
  {
   "cell_type": "markdown",
   "metadata": {},
   "source": [
    "Problem Statement 3:\n",
    "    \n",
    "A certain chemical pollutant in the Genesee River has been constant for several\n",
    "years with mean μ = 34 ppm (parts per million) and standard deviation σ = 8 ppm. A\n",
    "group of factory representatives whose companies discharge liquids into the river is\n",
    "now claiming that they have lowered the average with improved filtration devices. A\n",
    "group of environmentalists will test to see if this is true at the 1% level of\n",
    "significance. Assume \\ that their sample of size 50 gives a mean of 32.5 ppm.\n",
    "Perform a hypothesis test at the 1% level of significance and state your decision."
   ]
  },
  {
   "cell_type": "markdown",
   "metadata": {},
   "source": [
    "H0 = mean = 34\n",
    "\n",
    "H1 = mean < 34\n",
    "\n",
    "SD = 8\n",
    "\n",
    "alpha = 0.01\n",
    "\n",
    "n = 50\n",
    "\n",
    "x = 32.5\n",
    "\n",
    "Z(test) = ((32.5-34) / (8/sqrt(50))) = -1.326\n",
    "\n",
    "Z(critical) = -2.32 for alpha of 0.01 (Left tailed test)\n",
    "\n",
    "Since Z(test)>Z(critical), H0 is accepted.\n",
    "\n",
    "Hence the claims made by the factory representatives is true.\n",
    "\n",
    "-------------------------------\n"
   ]
  },
  {
   "cell_type": "markdown",
   "metadata": {},
   "source": [
    "Problem Statement 4:\n",
    "    \n",
    "Based on population figures and other general information on the U.S. population,\n",
    "suppose it has been estimated that, on average, a family of four in the U.S. spends\n",
    "about $1135 annually on dental expenditures. Suppose further that a regional dental\n",
    "association wants to test to determine if this figure is accurate for their area of\n",
    "country. To test this, 22 families of 4 are randomly selected from the population in\n",
    "that area of the country and a log is kept of the family’s dental expenditure for one\n",
    "year. The resulting data are given below. Assuming, that dental expenditure is\n",
    "normally distributed in the population, use the data and an alpha of 0.5 to test the\n",
    "dental association’s hypothesis.\n",
    "\n",
    "1008, 812, 1117, 1323, 1308, 1415, 831, 1021, 1287, 851, 930, 730, 699,\n",
    "872, 913, 944, 954, 987, 1695, 995, 1003, 994"
   ]
  },
  {
   "cell_type": "code",
   "execution_count": 2,
   "metadata": {},
   "outputs": [
    {
     "name": "stdout",
     "output_type": "stream",
     "text": [
      "sample_mean: 1031.318\n",
      "sample SD: 234.848\n"
     ]
    }
   ],
   "source": [
    "import numpy as np\n",
    "data = [1008, 812, 1117, 1323, 1308, 1415, 831, 1021, 1287, 851, 930, 730, 699, 872, 913, 944, 954, 987, 1695, 995, 1003, 994]\n",
    "x = np.mean(data)\n",
    "s = np.std(data)\n",
    "print('sample_mean:',round(x,3))\n",
    "print('sample SD:',round(s,3))"
   ]
  },
  {
   "cell_type": "markdown",
   "metadata": {},
   "source": [
    "population_mean = 1135\n",
    "\n",
    "alpha = 0.5 for 2 tails\n",
    "\n",
    "H0 = pop_mean = 1135\n",
    "\n",
    "H1 = pop_mean != 1135 (maybe greater or lesser)\n",
    "\n",
    "Hence we are using 2 tailed test method\n",
    "alpha/2 = 0.25 for 1 tail\n",
    "\n",
    "degrees of freedom = sample_size - 1 = 21\n",
    "\n",
    "t(test) = ((1031.318-1135)/(234.848/sqrt(22))) = -2.073\n",
    "\n",
    "t(0.5) = 0.686 and t(-0.5) = -0.686\n",
    "\n",
    "Hence since t(test) < t(critical), null hypothesis is rejected.\n",
    "\n",
    "Hence the mean figure given initially is not valid. The regional dental association can say that the figure\n",
    "\n",
    "is not accurate.\n",
    "\n",
    "------------------------------"
   ]
  },
  {
   "cell_type": "markdown",
   "metadata": {},
   "source": [
    "Problem Statement 5:\n",
    "    \n",
    "In a report prepared by the Economic Research Department of a major bank the\n",
    "Department manager maintains that the average annual family income on Metropolis\n",
    "is $48,432.\n",
    "\n",
    "What do you conclude about the validity of the report if a random sample\n",
    "of 400 families shows and average income of $48,574 with a standard deviation of\n",
    "2000?"
   ]
  },
  {
   "cell_type": "markdown",
   "metadata": {},
   "source": [
    "H0 = mean = 48432\n",
    "\n",
    "H1 = mean != 48432\n",
    "\n",
    "Z(test) = (48574-48432)/(100) = 1.42\n",
    "\n",
    "Z(critical) = for alpha = 0.05, -1.64 and 1.64 (since its 2 tailed test)\n",
    "\n",
    "Since Z(test) lies within the confidence interval, null hypothesis is accepted.\n",
    "\n",
    "The report prepared by Economic Research Department appears to be valid.\n",
    "\n",
    "------------------------------"
   ]
  },
  {
   "cell_type": "markdown",
   "metadata": {},
   "source": [
    "Problem Statement 6:\n",
    "    \n",
    "Suppose that in past years the average price per square foot for warehouses in the\n",
    "United States has been $32.28. \n",
    "\n",
    "A national real estate investor wants to determine\n",
    "whether that figure has changed now. The investor hires a researcher who randomly\n",
    "samples 19 warehouses that are for sale across the United States and finds that the\n",
    "mean price per square foot is $31.67, with a standard deviation of $1.29. assume\n",
    "that the prices of warehouse footage are normally distributed in population. If the\n",
    "researcher uses a 5% level of significance, what statistical conclusion can be\n",
    "reached? What are the hypotheses?"
   ]
  },
  {
   "cell_type": "markdown",
   "metadata": {},
   "source": [
    "H0 = mean = 32.28\n",
    "\n",
    "H1 = mean != 32.28\n",
    "\n",
    "alpha = 0.05\n",
    "\n",
    "x = 31.67\n",
    "\n",
    "n = 19\n",
    "\n",
    "SD = 1.29\n",
    "\n",
    "degrees of freedom = 18\n",
    "\n",
    "t(test) = -2.061\n",
    "\n",
    "t(critical) = 2.101 and -2.101 (Since it is 2 tailed test)\n",
    "\n",
    "Since t(test) is within the confidence interval, null hypothesis is accepted.\n",
    "\n",
    "We can conclude that the mean prices have not changed.\n",
    "\n",
    "-------------------------------\n"
   ]
  },
  {
   "cell_type": "markdown",
   "metadata": {},
   "source": [
    "Problem Statement 8:\n",
    "    \n",
    "Find the t-score for a sample size of 16 taken from a population with mean 10 when\n",
    "the sample mean is 12 and the sample standard deviation is 1.5."
   ]
  },
  {
   "cell_type": "code",
   "execution_count": 7,
   "metadata": {},
   "outputs": [
    {
     "name": "stdout",
     "output_type": "stream",
     "text": [
      "t-score: 5.333\n"
     ]
    }
   ],
   "source": [
    "import math\n",
    "t = ((12-10)/(1.5/math.sqrt(16)))\n",
    "print('t-score:',round(t,3))"
   ]
  },
  {
   "cell_type": "markdown",
   "metadata": {},
   "source": [
    "----------------------\n",
    "Problem Statement 9:\n",
    "    \n",
    "Find the t-score below which we can expect 99% of sample means will fall if samples\n",
    "of size 16 are taken from a normally distributed population.\n",
    "\n"
   ]
  },
  {
   "cell_type": "markdown",
   "metadata": {},
   "source": [
    "alpha = 1 - 0.99 = 0.01\n",
    "\n",
    "degrees of freedom = 15\n",
    "\n",
    "t(0.01) for 15 degrees of freedom = -2.602\n",
    "\n",
    "----------------"
   ]
  },
  {
   "cell_type": "markdown",
   "metadata": {},
   "source": [
    "Problem Statement 10:\n",
    "    \n",
    "If a random sample of size 25 drawn from a normal population gives a mean of 60\n",
    "and a standard deviation of 4, find the range of t-scores where we can expect to find\n",
    "the middle 95% of all sample means. Compute the probability that (−t0.05 <t<t0.10)."
   ]
  },
  {
   "cell_type": "markdown",
   "metadata": {},
   "source": [
    "n = 25\n",
    "\n",
    "x = 60\n",
    "\n",
    "s = 4\n",
    "\n",
    "alpha = 0.05 (it is 2 tailed test)\n",
    "\n",
    "degrees of freedom = 24\n",
    "\n",
    "t(0.05) = 2.064 and t(-0.05) = -2.064\n",
    "\n",
    "Hence range is  -2.064<t<2.064\n",
    "\n",
    "---------------------------\n"
   ]
  },
  {
   "cell_type": "markdown",
   "metadata": {},
   "source": [
    "Problem Statement 11:\n",
    "    \n",
    "Two-tailed test for difference between two population means\n",
    "Is there evidence to conclude that the number of people travelling from Bangalore to\n",
    "Chennai is different from the number of people travelling from Bangalore to Hosur in\n",
    "a week, given the following:\n",
    "Population 1: Bangalore to Chennai n1 = 1200\n",
    "x1 = 452\n",
    "s1 = 212\n",
    "Population 2: Bangalore to Hosur n2 = 800\n",
    "x2 = 523\n",
    "s2 = 185"
   ]
  },
  {
   "cell_type": "markdown",
   "metadata": {},
   "source": [
    "\n",
    "\n",
    "H0 = no of people teavelling from Bangalore to chennai = pepole travelling from Bangalore to Hosur\n",
    "\n",
    "H1 = Bang to Chennai != Bangalore to Hosur\n"
   ]
  },
  {
   "cell_type": "markdown",
   "metadata": {},
   "source": [
    "n1 = 1200\n",
    "\n",
    "x1 = 452\n",
    "\n",
    "s1 = 212\n",
    "\n",
    "n2 = 800\n",
    "\n",
    "x2 = 523\n",
    "\n",
    "s2 = 185\n",
    "\n",
    "SE = 8.957\n",
    "\n",
    "Z(test) = x1 - x2/SE = -7.926\n",
    "\n",
    "Let alpha = 0.05\n",
    "\n",
    "It is 2 tailed test\n",
    "\n",
    "Z(0.05) = -1.64 and 1.64.\n",
    "\n",
    "Z(test) < Z(critical), null hypothesis is rejected.\n",
    "\n",
    "The number of people travelling from Bang to Chennai and Bangalore to Hosur are different.\n",
    "\n",
    "-----------------------------------"
   ]
  },
  {
   "cell_type": "markdown",
   "metadata": {},
   "source": [
    "Problem Statement 12:\n",
    "    \n",
    "Is there evidence to conclude that the number of people preferring Duracell battery is\n",
    "different from the number of people preferring Energizer battery, given the following:\n",
    "Population 1: Duracell\n",
    "n1 = 100\n",
    "x1 = 308\n",
    "s1 = 84\n",
    "Population 2: Energizer\n",
    "n2 = 100\n",
    "x2 = 254\n",
    "s2 = 67"
   ]
  },
  {
   "cell_type": "markdown",
   "metadata": {},
   "source": [
    "n1 = 100\n",
    "\n",
    "x1 = 308\n",
    "\n",
    "s1 = 84\n",
    "\n",
    "n2 = 100\n",
    "\n",
    "x2 = 254\n",
    "\n",
    "s2 = 67\n",
    "\n",
    "H0 : x1 = x2\n",
    "\n",
    "H1 : x1 != x2\n",
    "    \n",
    "It is 2 tailed test\n",
    "\n",
    "Let alpha = 0.05\n",
    "\n",
    "Z(test) = 5.02\n",
    "\n",
    "z(0.05) = -1.64 AND  1.64\n",
    "\n",
    "Since Z(test)>Z(critical) H0 is rejected, there is evidence to conclude that the number of people preferring Duracell battery is different from the number of people preferring Energizer battery\n",
    "\n",
    "-------------------------------"
   ]
  },
  {
   "cell_type": "markdown",
   "metadata": {},
   "source": [
    "Problem Statement 14:\n",
    "    \n",
    "The manufacturers of compact disk players want to test whether a small price\n",
    "reduction is enough to increase sales of their product. Is there evidence that the\n",
    "small price reduction is enough to increase sales of compact disk players?\n",
    "Population 1: Before reduction\n",
    "n1 = 15\n",
    "x1 = Rs. 6598 s1 = Rs. 844\n",
    "Population 2: After reduction n2 = 12\n",
    "x2 = RS. 6870\n",
    "s2 = Rs. 669"
   ]
  },
  {
   "cell_type": "markdown",
   "metadata": {},
   "source": [
    "H0 = Before reduction sales = After reduction sales\n",
    "\n",
    "H1 = Sales before reduction < Sales after reduction\n",
    "\n",
    "n1 = 15\n",
    "\n",
    "x1 = 6598\n",
    "\n",
    "s1 = 844\n",
    "\n",
    "n2 = 12\n",
    "\n",
    "x2 = 6870\n",
    "\n",
    "s2 = 669\n",
    "\n",
    "Z(test) = -0.934\n",
    "\n",
    "Let alpha = 0.05\n",
    "\n",
    "Z(critical) = -1.64 (Left tailed test)\n",
    "\n",
    "Z(test) > Z(critical), H0 is accepted\n",
    "\n",
    "That is sales is same even after small price reduction.\n",
    "\n",
    "--------------------\n"
   ]
  },
  {
   "cell_type": "code",
   "execution_count": null,
   "metadata": {},
   "outputs": [],
   "source": []
  }
 ],
 "metadata": {
  "kernelspec": {
   "display_name": "Python 3",
   "language": "python",
   "name": "python3"
  },
  "language_info": {
   "codemirror_mode": {
    "name": "ipython",
    "version": 3
   },
   "file_extension": ".py",
   "mimetype": "text/x-python",
   "name": "python",
   "nbconvert_exporter": "python",
   "pygments_lexer": "ipython3",
   "version": "3.7.0"
  }
 },
 "nbformat": 4,
 "nbformat_minor": 2
}
