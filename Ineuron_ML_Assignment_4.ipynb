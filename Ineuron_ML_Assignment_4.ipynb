{
 "cells": [
  {
   "cell_type": "markdown",
   "metadata": {},
   "source": [
    "# Assignment 4"
   ]
  },
  {
   "cell_type": "markdown",
   "metadata": {},
   "source": [
    "\n"
   ]
  },
  {
   "cell_type": "markdown",
   "metadata": {},
   "source": [
    "1.1 Write a Python Program(with class concepts) to find the area of the triangle using the below\n",
    "formula.\n",
    "area = (s*(s-a)*(s-b)*(s-c)) ** 0.5\n",
    "Function to take the length of the sides of triangle from user should be defined in the parent\n",
    "class and function to calculate the area should be defined in subclass."
   ]
  },
  {
   "cell_type": "code",
   "execution_count": 1,
   "metadata": {},
   "outputs": [
    {
     "name": "stdout",
     "output_type": "stream",
     "text": [
      "Enter the first side:13\n",
      "Enter the second side:12\n",
      "Enter the third side:15\n",
      "74.833\n"
     ]
    }
   ],
   "source": [
    "import math\n",
    "class Polygon:\n",
    "    def setvalue(self):\n",
    "        a = int(input('Enter the first side:'))\n",
    "        b = int(input('Enter the second side:'))\n",
    "        c = int(input('Enter the third side:'))\n",
    "        self.a = a\n",
    "        self.b = b\n",
    "        self.c = c\n",
    "class Triangle(Polygon):\n",
    "    def area(self):\n",
    "        s = (self.a+self.b+self.c)/2\n",
    "        return round(math.sqrt(s*(s-self.a)*(s-self.b)*(s-self.c)),3)\n",
    "    \n",
    "t = Triangle()\n",
    "t.setvalue()\n",
    "print(t.area())"
   ]
  },
  {
   "cell_type": "markdown",
   "metadata": {},
   "source": [
    "1.2 Write a function filter_long_words() that takes a list of words and an integer n and returns\n",
    "the list of words that are longer than n."
   ]
  },
  {
   "cell_type": "code",
   "execution_count": 2,
   "metadata": {},
   "outputs": [
    {
     "name": "stdout",
     "output_type": "stream",
     "text": [
      "['asdksjad', 'sahdvjas']\n"
     ]
    }
   ],
   "source": [
    "def filter_long_words(l,n):\n",
    "    mylist = []\n",
    "    for item in l:\n",
    "        if len(item)>n:\n",
    "            mylist.append(item)\n",
    "    return mylist\n",
    "\n",
    "print(filter_long_words(['asdksjad','sadh','sdcjh','sahdvjas'],6))                                                                                                     "
   ]
  },
  {
   "cell_type": "markdown",
   "metadata": {},
   "source": [
    "2.1 Write a Python program using function concept that maps list of words into a list of integers\n",
    "representing the lengths of the corresponding words.\n",
    "Hint: If a list [ ab,cde,erty] is passed on to the python function output should come as [2,3,4]\n",
    "Here 2,3 and 4 are the lengths of the words in the list.\n"
   ]
  },
  {
   "cell_type": "code",
   "execution_count": 3,
   "metadata": {},
   "outputs": [
    {
     "name": "stdout",
     "output_type": "stream",
     "text": [
      "[3, 3, 5]\n"
     ]
    }
   ],
   "source": [
    "def myfunc(word_list):\n",
    "    return list(map(lambda x:len(x),word_list))\n",
    "    \n",
    "print(myfunc(['abc','def','xerfs']))"
   ]
  },
  {
   "cell_type": "markdown",
   "metadata": {},
   "source": [
    "2.2 Write a Python function which takes a character (i.e. a string of length 1) and returns True if\n",
    "it is a vowel, False otherwise."
   ]
  },
  {
   "cell_type": "code",
   "execution_count": 4,
   "metadata": {},
   "outputs": [
    {
     "name": "stdout",
     "output_type": "stream",
     "text": [
      "True\n"
     ]
    }
   ],
   "source": [
    "def myfunc(char):\n",
    "    return char in ('a','e','i','o','u','A','E','I','O','U')\n",
    "    \n",
    "print(myfunc('O'))"
   ]
  }
 ],
 "metadata": {
  "kernelspec": {
   "display_name": "Python 3",
   "language": "python",
   "name": "python3"
  },
  "language_info": {
   "codemirror_mode": {
    "name": "ipython",
    "version": 3
   },
   "file_extension": ".py",
   "mimetype": "text/x-python",
   "name": "python",
   "nbconvert_exporter": "python",
   "pygments_lexer": "ipython3",
   "version": "3.7.0"
  }
 },
 "nbformat": 4,
 "nbformat_minor": 2
}
