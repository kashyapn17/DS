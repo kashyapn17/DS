{
 "cells": [
  {
   "cell_type": "markdown",
   "metadata": {},
   "source": [
    "Write a function so that the columns of the output matrix are powers of the input\n",
    "vector.\n",
    "The order of the powers is determined by the increasing boolean argument. Specifically, when\n",
    "increasing is False, the i-th output column is the input vector raised element-wise to the power\n",
    "of N - i - 1.\n",
    "\n",
    "HINT: Such a matrix with a geometric progression in each row is named for Alexandre-\n",
    "Theophile Vandermonde."
   ]
  },
  {
   "cell_type": "code",
   "execution_count": 1,
   "metadata": {},
   "outputs": [
    {
     "name": "stdout",
     "output_type": "stream",
     "text": [
      "input_vector: (array([1, 2, 3, 4]),)\n"
     ]
    },
    {
     "data": {
      "text/plain": [
       "array([[[ 1,  1,  1,  1]],\n",
       "\n",
       "       [[ 1,  2,  3,  4]],\n",
       "\n",
       "       [[ 1,  4,  9, 16]],\n",
       "\n",
       "       [[ 1,  8, 27, 64]]], dtype=int32)"
      ]
     },
     "execution_count": 1,
     "metadata": {},
     "output_type": "execute_result"
    }
   ],
   "source": [
    "import numpy as np\n",
    "def vmatrix(*arr,n):\n",
    "    print('input_vector:',arr)\n",
    "    l = []\n",
    "    for i in range(n):\n",
    "        l.append(np.power(arr,i))\n",
    "\n",
    "    arr2 = np.array(l)\n",
    "    return(arr2)\n",
    "\n",
    "vmatrix(np.arange(1,5),n=4)"
   ]
  },
  {
   "cell_type": "markdown",
   "metadata": {},
   "source": [
    "\n",
    "\n",
    "Given a sequence of n values x1, x2, ..., xn and a window size k>0, the k-th moving average of\n",
    "the given sequence is defined as follows:\n",
    "The moving average sequence has n-k+1 elements as shown below.\n",
    "\n",
    "Write a function to find moving average in an array over a window:\n",
    "Test it over [3, 5, 7, 2, 8, 10, 11, 65, 72, 81, 99, 100, 150] and window of 3."
   ]
  },
  {
   "cell_type": "code",
   "execution_count": 26,
   "metadata": {},
   "outputs": [
    {
     "name": "stdout",
     "output_type": "stream",
     "text": [
      "Enter the number of elements:13\n",
      "Enter the numbers:\n",
      "3\n",
      "5\n",
      "7\n",
      "2\n",
      "8\n",
      "10\n",
      "11\n",
      "65\n",
      "72\n",
      "81\n",
      "99\n",
      "100\n",
      "150\n",
      "The list of numbers:  [3, 5, 7, 2, 8, 10, 11, 65, 72, 81, 99, 100, 150]\n",
      "Enter the window size:3\n",
      "The moving avg:   [5.0, 4.667, 5.667, 6.667, 9.667, 28.667, 49.333, 72.667, 84.0, 93.333, 116.333]\n"
     ]
    }
   ],
   "source": [
    "n = int(input('Enter the number of elements:'))\n",
    "l = []\n",
    "print('Enter the numbers:')\n",
    "for i in range(0,n):\n",
    "    l.append(int(input()))\n",
    "print('The list of numbers: ',l)\n",
    "k = int(input('Enter the window size:'))\n",
    "\n",
    "def moving_avg(l,k):\n",
    "    i = 0\n",
    "    moving_averages = []\n",
    "    while i < len(l) - k + 1:\n",
    "        this_window = l[i : i + k]\n",
    "        window_average = round((sum(this_window) / k),3)\n",
    "        moving_averages.append(window_average)\n",
    "        i += 1\n",
    "    return moving_averages\n",
    "\n",
    "\n",
    "print('The moving avg:  ',moving_avg(l,k))\n",
    "\n",
    "        \n",
    "        \n",
    "    \n",
    "    "
   ]
  }
 ],
 "metadata": {
  "kernelspec": {
   "display_name": "Python 3",
   "language": "python",
   "name": "python3"
  },
  "language_info": {
   "codemirror_mode": {
    "name": "ipython",
    "version": 3
   },
   "file_extension": ".py",
   "mimetype": "text/x-python",
   "name": "python",
   "nbconvert_exporter": "python",
   "pygments_lexer": "ipython3",
   "version": "3.7.0"
  }
 },
 "nbformat": 4,
 "nbformat_minor": 2
}
