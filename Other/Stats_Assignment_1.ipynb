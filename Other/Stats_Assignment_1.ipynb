{
 "cells": [
  {
   "cell_type": "code",
   "execution_count": 1,
   "metadata": {},
   "outputs": [],
   "source": [
    "import numpy as np\n",
    "from scipy import stats"
   ]
  },
  {
   "cell_type": "markdown",
   "metadata": {},
   "source": [
    "Calculate the mean, median, mode and standard deviation for the problem\n",
    "statements 1& 2."
   ]
  },
  {
   "cell_type": "markdown",
   "metadata": {},
   "source": [
    "Problem Statement 1:\n",
    "The marks awarded for an assignment set for a Year 8 class of 20 students were as\n",
    "follows:\n",
    "6 7 5 7 7 8 7 6 9 7 4 10 6 8 8 9 5 6 4 8"
   ]
  },
  {
   "cell_type": "code",
   "execution_count": 6,
   "metadata": {
    "scrolled": true
   },
   "outputs": [
    {
     "name": "stdout",
     "output_type": "stream",
     "text": [
      "Mean: 6.85\n",
      "Median: 7.0\n",
      "Mode: ModeResult(mode=array([7]), count=array([5]))\n",
      "Standard_deviation: 1.5898\n"
     ]
    }
   ],
   "source": [
    "data = [6,7,5,7,7,8,7,6,9,7,4,10,6,8,8,9,5,6,4,8]\n",
    "mean = np.mean(data)\n",
    "median = np.median(data)\n",
    "mode = stats.mode(data)\n",
    "std = np.std(data)\n",
    "print('Mean:',mean)\n",
    "print('Median:',median)\n",
    "print('Mode:',mode)\n",
    "print('Standard_deviation:',round(std,4))"
   ]
  },
  {
   "cell_type": "markdown",
   "metadata": {},
   "source": [
    "Problem Statement 2:\n",
    "The number of calls from motorists per day for roadside service was recorded for a\n",
    "particular month:\n",
    "28, 122, 217, 130, 120, 86, 80, 90, 140, 120, 70, 40, 145, 113, 90, 68, 174, 194, 170,\n",
    "100, 75, 104, 97, 75,\n",
    "123, 100, 75, 104, 97, 75, 123, 100, 89, 120, 109"
   ]
  },
  {
   "cell_type": "code",
   "execution_count": 8,
   "metadata": {},
   "outputs": [
    {
     "name": "stdout",
     "output_type": "stream",
     "text": [
      "Mean: 107.5143\n",
      "Median: 100.0\n",
      "Mode: ModeResult(mode=array([75]), count=array([4]))\n",
      "Standard_deviation: 38.7729\n"
     ]
    }
   ],
   "source": [
    "data = [28, 122, 217, 130, 120, 86, 80, 90, 140, 120, 70, 40, 145, 113, 90, 68, 174, 194, 170, 100, 75, 104, 97, 75, 123, 100, 75, 104, 97, 75, 123, 100, 89, 120, 109]\n",
    "mean = np.mean(data)\n",
    "median = np.median(data)\n",
    "mode = stats.mode(data)\n",
    "std = np.std(data)\n",
    "print('Mean:',round(mean,4))\n",
    "print('Median:',median)\n",
    "print('Mode:',mode)\n",
    "print('Standard_deviation:',round(std,4))"
   ]
  },
  {
   "cell_type": "markdown",
   "metadata": {},
   "source": [
    "Problem Statement 3:\n",
    "The number of times I go to the gym in weekdays, are given below along with its\n",
    "associated probability:\n",
    "x = 0, 1, 2, 3, 4, 5\n",
    "f(x) = 0.09, 0.15, 0.40, 0.25, 0.10, 0.01\n",
    "Calculate the mean no. of workouts in a week. Also evaluate the variance involved in\n",
    "it."
   ]
  },
  {
   "cell_type": "code",
   "execution_count": 10,
   "metadata": {},
   "outputs": [
    {
     "name": "stdout",
     "output_type": "stream",
     "text": [
      "Mean: 2.15\n"
     ]
    }
   ],
   "source": [
    "mean = ((0*0.09) + (1*0.15) + (2*0.40) + (3*0.25) + (4*0.10) + (5*0.01))\n",
    "print('Mean:',mean)"
   ]
  },
  {
   "cell_type": "code",
   "execution_count": 12,
   "metadata": {},
   "outputs": [
    {
     "name": "stdout",
     "output_type": "stream",
     "text": [
      "Variance: 1.2275\n"
     ]
    }
   ],
   "source": [
    "variance = (((0-2.15)**2)*0.09 + ((1-2.15)**2)*0.15 + ((2-2.15)**2)*0.40 + ((3-2.15)**2)*0.25 + ((4-2.15)**2)*0.10 + ((5-2.15)**2)*0.01)\n",
    "print('Variance:',variance)"
   ]
  },
  {
   "cell_type": "markdown",
   "metadata": {},
   "source": [
    "Problem Statement 10:\n",
    "\n",
    "Please compute the following:\n",
    "a) P(Z > 1.26), . P(Z < −0.86), P(Z > −1.37), P(−1.25 < Z < 0.37), . P(Z ≤ −4.6)\n",
    "b) Find the value z such that P(Z > z) = 0.05\n",
    "c) Find the value of z such that P(−z < Z < z) = 0.99"
   ]
  },
  {
   "cell_type": "markdown",
   "metadata": {},
   "source": [
    "a) P(Z>1.26) = 0.1038\n",
    "\n",
    "P(Z<-0.86) = 0.1949\n",
    "\n",
    "P(Z>-1.37) = 0.9147\n",
    "\n",
    "P(-1.25<Z<0.37) = 0.5387\n",
    "\n",
    "P(Z<=-4.6) = 0\n"
   ]
  },
  {
   "cell_type": "markdown",
   "metadata": {},
   "source": [
    "b) P(Z>z)=0.05, z=1.64\n",
    "\n",
    "c) P(-z<Z<z)=0.99, z=2.57\n",
    "\n",
    "--------------------"
   ]
  },
  {
   "cell_type": "markdown",
   "metadata": {},
   "source": [
    "Problem Statement 11:\n",
    "\n",
    "The current flow in a copper wire follow a normal distribution with a mean of 10 mA\n",
    "and a variance of 4 (mA)2.\n",
    "What is the probability that a current measurement will exceed 13 mA? What is the\n",
    "probability that a current measurement is between 9 and 11mA? Determine the\n",
    "current measurement which has a probability of 0.98."
   ]
  },
  {
   "cell_type": "markdown",
   "metadata": {},
   "source": [
    "P(I>13mA)?\n",
    "\n",
    "Z score is 1.5\n",
    "\n",
    "P(I>13mA) = P(Z>1.5) = 0.0668\n",
    "\n",
    "----------------------------------\n",
    "P(9<I<11)?\n",
    "\n",
    "P(9<I<11) = P(-0.5<Z<0.5) = 0.6915 - 0.3085 = 0.383\n",
    "\n",
    "---------------------------------------------------------\n",
    "P = 0.98, I=?\n",
    "\n",
    "Z = 2.05\n",
    "\n",
    "I = 14.12 mA\n",
    "\n",
    "--------------------"
   ]
  },
  {
   "cell_type": "markdown",
   "metadata": {},
   "source": [
    "Problem Statement 12:\n",
    "\n",
    "The shaft in a piston has its diameter normally distributed with a mean of 0.2508 inch\n",
    "and a standard deviation of 0.0005 inch. The specifications of the shaft are 0.2500 ∓\n",
    "0.0015 inch. What proportion of shafts are in sync with the specifications? If the\n",
    "process is centered so that the mean is equal to the target value of 0.2500, what\n",
    "proportion of shafts conform to the new specifications? What is your conclusion from\n",
    "this experiment?"
   ]
  },
  {
   "cell_type": "markdown",
   "metadata": {},
   "source": [
    "99.7% of the shafts are in sync with specifications.\n",
    "\n",
    "Same 99.7% are in sync"
   ]
  },
  {
   "cell_type": "code",
   "execution_count": 12,
   "metadata": {},
   "outputs": [
    {
     "data": {
      "text/plain": [
       "[1, 0, 0, 2]"
      ]
     },
     "execution_count": 12,
     "metadata": {},
     "output_type": "execute_result"
    }
   ],
   "source": [
    "n = 1002\n",
    "s = str(n)\n",
    "l = [int(i) for i in s]\n",
    "l"
   ]
  },
  {
   "cell_type": "code",
   "execution_count": null,
   "metadata": {},
   "outputs": [],
   "source": []
  }
 ],
 "metadata": {
  "kernelspec": {
   "display_name": "Python 3",
   "language": "python",
   "name": "python3"
  },
  "language_info": {
   "codemirror_mode": {
    "name": "ipython",
    "version": 3
   },
   "file_extension": ".py",
   "mimetype": "text/x-python",
   "name": "python",
   "nbconvert_exporter": "python",
   "pygments_lexer": "ipython3",
   "version": "3.7.6"
  }
 },
 "nbformat": 4,
 "nbformat_minor": 2
}
